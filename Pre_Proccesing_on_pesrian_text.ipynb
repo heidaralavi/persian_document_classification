{
 "cells": [
  {
   "cell_type": "code",
   "execution_count": 5,
   "id": "ee9e979b",
   "metadata": {},
   "outputs": [],
   "source": [
    "import nltk\n",
    "#nltk.download()\n",
    "from __future__ import unicode_literals\n",
    "from hazm import *\n",
    "import re"
   ]
  },
  {
   "cell_type": "code",
   "execution_count": 6,
   "id": "48144263",
   "metadata": {},
   "outputs": [],
   "source": [
    "import pandas as pd\n",
    "import numpy as np\n",
    "import matplotlib.pyplot as plt"
   ]
  },
  {
   "cell_type": "code",
   "execution_count": 7,
   "id": "b2f09d66",
   "metadata": {},
   "outputs": [],
   "source": [
    "#importing data from file\n",
    "df=pd.read_excel('failure_description.xlsx')"
   ]
  },
  {
   "cell_type": "code",
   "execution_count": 8,
   "id": "b6fc1885",
   "metadata": {},
   "outputs": [
    {
     "data": {
      "text/plain": [
       "'بازو بیرونی شماره21و6 گریسکاری نمیشود'"
      ]
     },
     "execution_count": 8,
     "metadata": {},
     "output_type": "execute_result"
    }
   ],
   "source": [
    "#looking to dataframe\n",
    "df.iloc[:,1][0]"
   ]
  },
  {
   "cell_type": "code",
   "execution_count": null,
   "id": "304cfda7",
   "metadata": {},
   "outputs": [],
   "source": [
    "#func for removing english character\n",
    "def remove_eng(x):\n",
    "    return re.sub('[0-9a-zA-Z]',' ',x)"
   ]
  },
  {
   "cell_type": "code",
   "execution_count": null,
   "id": "35a7ef7f",
   "metadata": {},
   "outputs": [],
   "source": [
    "#mapping function to dataframe\n",
    "df['Problem_Description'] = df.iloc[:,1].map(lambda x: remove_eng(x))"
   ]
  },
  {
   "cell_type": "code",
   "execution_count": null,
   "id": "35cf2eba",
   "metadata": {},
   "outputs": [],
   "source": [
    "#looking\n",
    "df"
   ]
  },
  {
   "cell_type": "code",
   "execution_count": null,
   "id": "406fb533",
   "metadata": {},
   "outputs": [],
   "source": [
    "#useing HAZM for normalizing sentenses\n",
    "normalizer = Normalizer(token_based=True)\n",
    "def norm(x):\n",
    "    return normalizer.normalize(x)"
   ]
  },
  {
   "cell_type": "code",
   "execution_count": null,
   "id": "1096fca2",
   "metadata": {},
   "outputs": [],
   "source": [
    "#sample test \n",
    "norm(df.iloc[:,1][0])"
   ]
  },
  {
   "cell_type": "code",
   "execution_count": null,
   "id": "7b0408aa",
   "metadata": {},
   "outputs": [],
   "source": [
    "#mapping function to dataframe\n",
    "df['Normalized_description'] = df.iloc[:,1].map(lambda x: norm(x))"
   ]
  },
  {
   "cell_type": "code",
   "execution_count": null,
   "id": "8dc8cab0",
   "metadata": {},
   "outputs": [],
   "source": [
    "#useing HAZM for tokenizing\n",
    "def word_tok(x):\n",
    "    return word_tokenize(x)\n",
    "df['word_tokenize'] = df.iloc[:,2].map(lambda x: word_tok(x))"
   ]
  },
  {
   "cell_type": "code",
   "execution_count": null,
   "id": "c4115070",
   "metadata": {},
   "outputs": [],
   "source": [
    "#looking\n",
    "df.iloc[:,3][0]"
   ]
  },
  {
   "cell_type": "code",
   "execution_count": null,
   "id": "30dc2073",
   "metadata": {},
   "outputs": [],
   "source": [
    "#removing empty item and space from begin and end of words\n",
    "def remove_space(x):\n",
    "    remove_space = [item.strip() for item in x]\n",
    "    delete_empty = [item for item in remove_space if item.strip()]\n",
    "    return delete_empty\n",
    "    \n",
    "df['removed_space'] = df.iloc[:,3].map(lambda x: remove_space(x))        "
   ]
  },
  {
   "cell_type": "code",
   "execution_count": null,
   "id": "ecdae485",
   "metadata": {},
   "outputs": [],
   "source": [
    "#save cleaned dataframe to excel file\n",
    "#df.to_excel('temp.xlsx')"
   ]
  },
  {
   "cell_type": "code",
   "execution_count": null,
   "id": "1eadb405",
   "metadata": {},
   "outputs": [],
   "source": [
    "#sample test\n",
    "a=[' یتبنیمشس سینش  ','','نسشیت    ']\n",
    "print(a)\n",
    "remove_space(a)"
   ]
  },
  {
   "cell_type": "code",
   "execution_count": null,
   "id": "9ee315f3",
   "metadata": {},
   "outputs": [],
   "source": [
    "#removing stopwords\n",
    "stop_words_df=pd.read_excel('stop_words.xlsx')\n",
    "stop_words = stop_words_df.iloc[:,0].to_list()\n",
    "def remove_stopwords(x):\n",
    "    output=[]\n",
    "    for item in x:\n",
    "        if item not in stop_words:\n",
    "            output.append(item)\n",
    "    return output"
   ]
  },
  {
   "cell_type": "code",
   "execution_count": null,
   "id": "6717537b",
   "metadata": {},
   "outputs": [],
   "source": [
    "#mapping function to dataframe\n",
    "df['removed_stopwords'] = df.iloc[:,4].map(lambda x: remove_stopwords(x))"
   ]
  },
  {
   "cell_type": "code",
   "execution_count": null,
   "id": "ff8b6f47",
   "metadata": {},
   "outputs": [],
   "source": [
    "#making sentence by joining\n",
    "df['sentens'] = df.iloc[:,5].map(lambda x: ' '.join(x))"
   ]
  },
  {
   "cell_type": "code",
   "execution_count": null,
   "id": "c413c803",
   "metadata": {},
   "outputs": [],
   "source": [
    "#making new dataframe by selecting some colume from old dataframe\n",
    "temp=df[['Cause_of_failure','sentens','removed_stopwords']].copy()"
   ]
  },
  {
   "cell_type": "code",
   "execution_count": null,
   "id": "752ad6c1",
   "metadata": {},
   "outputs": [],
   "source": [
    "#removing NaN\n",
    "final_df=temp[temp['Cause_of_failure'].notnull()]"
   ]
  },
  {
   "cell_type": "code",
   "execution_count": null,
   "id": "99b5a637",
   "metadata": {},
   "outputs": [],
   "source": [
    "#looking\n",
    "final_df"
   ]
  },
  {
   "cell_type": "code",
   "execution_count": null,
   "id": "6ccaa6e9",
   "metadata": {},
   "outputs": [],
   "source": [
    "#changing categure value by 0,1,2,....\n",
    "res = dict(zip(final_df.Cause_of_failure.value_counts().keys().to_list(),range(27)))\n",
    "final_df.Cause_of_failure.replace(res,inplace = True)"
   ]
  },
  {
   "cell_type": "code",
   "execution_count": null,
   "id": "db3aec8e",
   "metadata": {},
   "outputs": [],
   "source": [
    "#changed by this values\n",
    "res.items()"
   ]
  },
  {
   "cell_type": "code",
   "execution_count": null,
   "id": "014a8ae3",
   "metadata": {},
   "outputs": [],
   "source": [
    "#reindexing dataframe\n",
    "final_df.reset_index(inplace= True,drop=True)"
   ]
  },
  {
   "cell_type": "code",
   "execution_count": null,
   "id": "8c4e61e4",
   "metadata": {},
   "outputs": [],
   "source": [
    "#looking\n",
    "final_df.info()"
   ]
  },
  {
   "cell_type": "code",
   "execution_count": null,
   "id": "210a3f17",
   "metadata": {},
   "outputs": [],
   "source": [
    "#save cleaned dataframe to excel file\n",
    "#final_df.to_excel('f_data.xlsx')"
   ]
  },
  {
   "cell_type": "code",
   "execution_count": null,
   "id": "4f811d70",
   "metadata": {},
   "outputs": [],
   "source": [
    "#Vectorizing data by sklearn \"Bag Of Words\"\n",
    "from sklearn.feature_extraction.text import CountVectorizer\n",
    "cv=CountVectorizer()"
   ]
  },
  {
   "cell_type": "code",
   "execution_count": null,
   "id": "b3bc9f1f",
   "metadata": {},
   "outputs": [],
   "source": [
    "#appling model to dataframe\n",
    "bow = cv.fit_transform(final_df.iloc[:,1]).toarray()"
   ]
  },
  {
   "cell_type": "code",
   "execution_count": null,
   "id": "60d08a85",
   "metadata": {},
   "outputs": [],
   "source": [
    "bow.shape"
   ]
  },
  {
   "cell_type": "code",
   "execution_count": null,
   "id": "76987971",
   "metadata": {},
   "outputs": [],
   "source": [
    "#Vectorizing data by sklearn \"TF-idf\"\n",
    "from sklearn.feature_extraction.text import TfidfVectorizer"
   ]
  },
  {
   "cell_type": "code",
   "execution_count": null,
   "id": "4ede9dd6",
   "metadata": {},
   "outputs": [],
   "source": [
    "#making class\n",
    "tf = TfidfVectorizer()"
   ]
  },
  {
   "cell_type": "code",
   "execution_count": null,
   "id": "c64d7270",
   "metadata": {},
   "outputs": [],
   "source": [
    "#training data\n",
    "tf.fit(final_df.iloc[:,1])"
   ]
  },
  {
   "cell_type": "code",
   "execution_count": null,
   "id": "27dbed0c",
   "metadata": {},
   "outputs": [],
   "source": [
    "#looking to vocabulary\n",
    "print(tf.fit(final_df.iloc[:,1]).vocabulary_)"
   ]
  },
  {
   "cell_type": "code",
   "execution_count": null,
   "id": "c33185e1",
   "metadata": {},
   "outputs": [],
   "source": [
    "#making vectors by TF-idf\n",
    "X=tf.transform(final_df.iloc[:,1]).toarray()"
   ]
  },
  {
   "cell_type": "code",
   "execution_count": null,
   "id": "86560919",
   "metadata": {},
   "outputs": [],
   "source": [
    "y=final_df['Cause_of_failure']"
   ]
  },
  {
   "cell_type": "code",
   "execution_count": null,
   "id": "5b059082",
   "metadata": {},
   "outputs": [],
   "source": [
    "X[0].sum()"
   ]
  },
  {
   "cell_type": "code",
   "execution_count": null,
   "id": "d0330119",
   "metadata": {},
   "outputs": [],
   "source": [
    "#spliting data to train and test dataset\n",
    "from sklearn.model_selection import train_test_split\n",
    "X_train,X_test,y_train,y_test=train_test_split(X,y,test_size=0.2,random_state=123)"
   ]
  },
  {
   "cell_type": "code",
   "execution_count": null,
   "id": "cf1bb955",
   "metadata": {},
   "outputs": [],
   "source": [
    "X_train.shape"
   ]
  },
  {
   "cell_type": "code",
   "execution_count": null,
   "id": "1d1994e8",
   "metadata": {},
   "outputs": [],
   "source": [
    "#training model \n",
    "from sklearn.naive_bayes import MultinomialNB\n",
    "model=MultinomialNB().fit(X_train,y_train)"
   ]
  },
  {
   "cell_type": "code",
   "execution_count": null,
   "id": "00202f4a",
   "metadata": {},
   "outputs": [],
   "source": [
    "#predicting \n",
    "y_pred=model.predict(X_test)"
   ]
  },
  {
   "cell_type": "code",
   "execution_count": null,
   "id": "f356fb40",
   "metadata": {},
   "outputs": [],
   "source": [
    "#calculating accuracy\n",
    "from sklearn.metrics import accuracy_score\n",
    "accuracy_score(y_pred,y_test)"
   ]
  },
  {
   "cell_type": "code",
   "execution_count": null,
   "id": "25515da8",
   "metadata": {},
   "outputs": [],
   "source": [
    "#calculating accuracy\n",
    "y_predict=model.predict(X_train)\n",
    "accuracy_score(y_predict,y_train)"
   ]
  },
  {
   "cell_type": "code",
   "execution_count": null,
   "id": "bde60925",
   "metadata": {},
   "outputs": [],
   "source": [
    "#Indexing words of corpus by tensorflow\n",
    "from tensorflow.keras.preprocessing.text import Tokenizer"
   ]
  },
  {
   "cell_type": "code",
   "execution_count": null,
   "id": "b1fe19ef",
   "metadata": {},
   "outputs": [],
   "source": [
    "#Indexing\n",
    "max_words = 500\n",
    "tkn = Tokenizer(num_words=max_words)\n",
    "tkn.fit_on_texts(final_df.iloc[:,1])\n",
    "seq = tkn.texts_to_sequences(final_df.iloc[:,1])\n",
    "print(len(seq))\n",
    "for i in range(10):\n",
    "    print(seq[i],'<----->',final_df.iloc[:,1][i])"
   ]
  },
  {
   "cell_type": "code",
   "execution_count": null,
   "id": "32703991",
   "metadata": {},
   "outputs": [],
   "source": [
    "#calculating Maximum Len\n",
    "max_len=0\n",
    "for item in seq:\n",
    "    if len(item)>max_len:\n",
    "        max_len=len(item)\n",
    "print(max_len)"
   ]
  },
  {
   "cell_type": "code",
   "execution_count": null,
   "id": "ab37665f",
   "metadata": {},
   "outputs": [],
   "source": [
    "#making list with equal len\n",
    "from tensorflow.keras.preprocessing.sequence import pad_sequences\n",
    "padded_docs = pad_sequences(seq, padding = 'pre', maxlen= max_len)\n",
    "print(padded_docs)"
   ]
  },
  {
   "cell_type": "code",
   "execution_count": null,
   "id": "1a946068",
   "metadata": {},
   "outputs": [],
   "source": [
    "from tensorflow.keras.models import Sequential\n",
    "from keras.layers import LSTM, Activation, Dense, Dropout, Input, Embedding\n",
    "embedding_vector_features = 10\n",
    "model = Sequential()\n",
    "model.add(Embedding(max_words, embedding_vector_features, input_length=max_len))\n",
    "model.add(LSTM(256))\n",
    "model.add(Dense(1, activation='sigmoid'))\n",
    "model.compile(loss = 'binary_crossentropy', optimizer='adam', metrics=['accuracy'])\n",
    "print(model.summary())"
   ]
  },
  {
   "cell_type": "code",
   "execution_count": null,
   "id": "9a7756a1",
   "metadata": {},
   "outputs": [],
   "source": [
    "model.fit(padded_docs,y,batch_size=128,epochs=10, validation_split=0.2)"
   ]
  },
  {
   "cell_type": "code",
   "execution_count": null,
   "id": "c513e076",
   "metadata": {},
   "outputs": [],
   "source": [
    "#prediction \n",
    "text='جک نشتی دارد'.strip().split()\n",
    "print(text)\n",
    "pr=pad_sequences(tkn.texts_to_sequences([text]), padding = 'pre', maxlen= max_len)\n",
    "print(pr)\n",
    "model.predict(pr)"
   ]
  },
  {
   "cell_type": "code",
   "execution_count": null,
   "id": "4b516386",
   "metadata": {},
   "outputs": [],
   "source": [
    "#bag of words useing sklearn\n",
    "from sklearn.feature_extraction.text import CountVectorizer"
   ]
  },
  {
   "cell_type": "code",
   "execution_count": null,
   "id": "4b482d6a",
   "metadata": {},
   "outputs": [],
   "source": [
    "vectorizer=CountVectorizer()\n",
    "vocabulary=vectorizer.fit(final_df.iloc[:,1])"
   ]
  },
  {
   "cell_type": "code",
   "execution_count": null,
   "id": "b87a142a",
   "metadata": {},
   "outputs": [],
   "source": [
    "X= vectorizer.transform(final_df.iloc[:,1])"
   ]
  },
  {
   "cell_type": "code",
   "execution_count": null,
   "id": "30677eab",
   "metadata": {},
   "outputs": [],
   "source": [
    "X.toarray()"
   ]
  },
  {
   "cell_type": "code",
   "execution_count": null,
   "id": "9761cbb5",
   "metadata": {},
   "outputs": [],
   "source": [
    "print(vocabulary.get_feature_names())"
   ]
  },
  {
   "cell_type": "code",
   "execution_count": null,
   "id": "53696982",
   "metadata": {},
   "outputs": [],
   "source": [
    "for item in final_df.iloc[:,1]:\n",
    "    if item.find(' یکسر') != -1:\n",
    "        print(item)\n",
    "        print(final_df[final_df['sentens']== item])"
   ]
  },
  {
   "cell_type": "code",
   "execution_count": null,
   "id": "250bcb35",
   "metadata": {},
   "outputs": [],
   "source": [
    "final_df"
   ]
  },
  {
   "cell_type": "code",
   "execution_count": null,
   "id": "51096d7e",
   "metadata": {},
   "outputs": [],
   "source": [
    "from googletrans import Translator"
   ]
  },
  {
   "cell_type": "code",
   "execution_count": null,
   "id": "83d4545a",
   "metadata": {},
   "outputs": [],
   "source": [
    "tr = Translator()"
   ]
  },
  {
   "cell_type": "code",
   "execution_count": null,
   "id": "11ab7170",
   "metadata": {},
   "outputs": [],
   "source": [
    "tr.translate('contents', dest='en')"
   ]
  },
  {
   "cell_type": "code",
   "execution_count": null,
   "id": "4a2a12e8",
   "metadata": {},
   "outputs": [],
   "source": []
  }
 ],
 "metadata": {
  "kernelspec": {
   "display_name": "Python 3 (ipykernel)",
   "language": "python",
   "name": "python3"
  },
  "language_info": {
   "codemirror_mode": {
    "name": "ipython",
    "version": 3
   },
   "file_extension": ".py",
   "mimetype": "text/x-python",
   "name": "python",
   "nbconvert_exporter": "python",
   "pygments_lexer": "ipython3",
   "version": "3.9.12"
  }
 },
 "nbformat": 4,
 "nbformat_minor": 5
}
