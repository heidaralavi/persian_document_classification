{
 "cells": [
  {
   "cell_type": "code",
   "execution_count": 25,
   "id": "a5f2fa84",
   "metadata": {},
   "outputs": [],
   "source": [
    "#!pip install nltk"
   ]
  },
  {
   "cell_type": "code",
   "execution_count": 26,
   "id": "8ad251d9",
   "metadata": {},
   "outputs": [],
   "source": [
    "#!pip install hazm"
   ]
  },
  {
   "cell_type": "code",
   "execution_count": 27,
   "id": "424ee5a2",
   "metadata": {},
   "outputs": [],
   "source": [
    "#import nltk\n",
    "#nltk.download()"
   ]
  },
  {
   "cell_type": "code",
   "execution_count": 28,
   "id": "6c128d70",
   "metadata": {},
   "outputs": [],
   "source": [
    "from __future__ import unicode_literals\n",
    "#from hazm import *"
   ]
  },
  {
   "cell_type": "code",
   "execution_count": 29,
   "id": "4aeda014",
   "metadata": {},
   "outputs": [],
   "source": [
    "import pandas as pd\n",
    "import numpy as np\n",
    "import matplotlib.pyplot as plt"
   ]
  },
  {
   "cell_type": "code",
   "execution_count": 30,
   "id": "712f45cd",
   "metadata": {},
   "outputs": [],
   "source": [
    "df=pd.read_excel('data.xlsx',dtype='str')"
   ]
  },
  {
   "cell_type": "code",
   "execution_count": 31,
   "id": "97fb735e",
   "metadata": {},
   "outputs": [
    {
     "data": {
      "text/html": [
       "<div>\n",
       "<style scoped>\n",
       "    .dataframe tbody tr th:only-of-type {\n",
       "        vertical-align: middle;\n",
       "    }\n",
       "\n",
       "    .dataframe tbody tr th {\n",
       "        vertical-align: top;\n",
       "    }\n",
       "\n",
       "    .dataframe thead th {\n",
       "        text-align: right;\n",
       "    }\n",
       "</style>\n",
       "<table border=\"1\" class=\"dataframe\">\n",
       "  <thead>\n",
       "    <tr style=\"text-align: right;\">\n",
       "      <th></th>\n",
       "      <th>شماره درخواست</th>\n",
       "      <th>کد ماشین</th>\n",
       "      <th>تاریخ خرابی</th>\n",
       "      <th>وضعیت</th>\n",
       "      <th>نام ماشین</th>\n",
       "      <th>نوع درخواست</th>\n",
       "      <th>ق.ص. درخواست</th>\n",
       "      <th>علت خرابی</th>\n",
       "      <th>مدت انجام كار</th>\n",
       "      <th>شرح مشكل</th>\n",
       "      <th>تاريخ شروع</th>\n",
       "      <th>شرح_كد دوره توقف (واقعي ) 2</th>\n",
       "      <th>شرح_محل استقرار</th>\n",
       "    </tr>\n",
       "  </thead>\n",
       "  <tbody>\n",
       "    <tr>\n",
       "      <th>0</th>\n",
       "      <td>93078329</td>\n",
       "      <td></td>\n",
       "      <td>14000608</td>\n",
       "      <td>درحال بررسي</td>\n",
       "      <td>NaN</td>\n",
       "      <td>عادي</td>\n",
       "      <td>هيدروليك و روانكاري</td>\n",
       "      <td>NaN</td>\n",
       "      <td>0</td>\n",
       "      <td>سيستم گريس بالميل آلارم دارد و اسپري انجام نمي...</td>\n",
       "      <td>0</td>\n",
       "      <td>نامشخص</td>\n",
       "      <td>930BM1.xxxx</td>\n",
       "    </tr>\n",
       "    <tr>\n",
       "      <th>1</th>\n",
       "      <td>93078330</td>\n",
       "      <td></td>\n",
       "      <td>14000608</td>\n",
       "      <td>درحال بررسي</td>\n",
       "      <td>NaN</td>\n",
       "      <td>عادي</td>\n",
       "      <td>هيدروليك و روانكاري</td>\n",
       "      <td>NaN</td>\n",
       "      <td>0</td>\n",
       "      <td>سيستم گريس ديسك يك آلارم دارد .</td>\n",
       "      <td>0</td>\n",
       "      <td>نامشخص</td>\n",
       "      <td>610PE1.XXXX</td>\n",
       "    </tr>\n",
       "    <tr>\n",
       "      <th>2</th>\n",
       "      <td>93078331</td>\n",
       "      <td></td>\n",
       "      <td>14000608</td>\n",
       "      <td>درحال بررسي</td>\n",
       "      <td>NaN</td>\n",
       "      <td>عادي</td>\n",
       "      <td>هيدروليك و روانكاري</td>\n",
       "      <td>NaN</td>\n",
       "      <td>0</td>\n",
       "      <td>نشتي روغن  از پمپ مسير شماره يك هيدروليك 610wb</td>\n",
       "      <td>0</td>\n",
       "      <td>نامشخص</td>\n",
       "      <td>610BW8</td>\n",
       "    </tr>\n",
       "    <tr>\n",
       "      <th>3</th>\n",
       "      <td>93078474</td>\n",
       "      <td></td>\n",
       "      <td>14000612</td>\n",
       "      <td>درحال بررسي</td>\n",
       "      <td>NaN</td>\n",
       "      <td>عادي</td>\n",
       "      <td>هيدروليك و روانكاري</td>\n",
       "      <td>NaN</td>\n",
       "      <td>0</td>\n",
       "      <td>سيستم گريسكاري بالميل آلارم دارد</td>\n",
       "      <td>0</td>\n",
       "      <td>نامشخص</td>\n",
       "      <td>930BM1.xxxx</td>\n",
       "    </tr>\n",
       "    <tr>\n",
       "      <th>4</th>\n",
       "      <td>93078633</td>\n",
       "      <td></td>\n",
       "      <td>14000616</td>\n",
       "      <td>درحال بررسي</td>\n",
       "      <td>NaN</td>\n",
       "      <td>عادي</td>\n",
       "      <td>هيدروليك و روانكاري</td>\n",
       "      <td>NaN</td>\n",
       "      <td>0</td>\n",
       "      <td>دماي بيرينگ سمت موتور 710fn4 بالاست و سطح روغن...</td>\n",
       "      <td>0</td>\n",
       "      <td>نامشخص</td>\n",
       "      <td>710FN4.xxxx</td>\n",
       "    </tr>\n",
       "  </tbody>\n",
       "</table>\n",
       "</div>"
      ],
      "text/plain": [
       "  شماره درخواست              کد ماشین تاریخ خرابی        وضعیت نام ماشین  \\\n",
       "0      93078329                          14000608  درحال بررسي       NaN   \n",
       "1      93078330                          14000608  درحال بررسي       NaN   \n",
       "2      93078331                          14000608  درحال بررسي       NaN   \n",
       "3      93078474                          14000612  درحال بررسي       NaN   \n",
       "4      93078633                          14000616  درحال بررسي       NaN   \n",
       "\n",
       "  نوع درخواست         ق.ص. درخواست علت خرابی مدت انجام كار  \\\n",
       "0        عادي  هيدروليك و روانكاري       NaN             0   \n",
       "1        عادي  هيدروليك و روانكاري       NaN             0   \n",
       "2        عادي  هيدروليك و روانكاري       NaN             0   \n",
       "3        عادي  هيدروليك و روانكاري       NaN             0   \n",
       "4        عادي  هيدروليك و روانكاري       NaN             0   \n",
       "\n",
       "                                            شرح مشكل تاريخ شروع  \\\n",
       "0  سيستم گريس بالميل آلارم دارد و اسپري انجام نمي...          0   \n",
       "1                    سيستم گريس ديسك يك آلارم دارد .          0   \n",
       "2     نشتي روغن  از پمپ مسير شماره يك هيدروليك 610wb          0   \n",
       "3                   سيستم گريسكاري بالميل آلارم دارد          0   \n",
       "4  دماي بيرينگ سمت موتور 710fn4 بالاست و سطح روغن...          0   \n",
       "\n",
       "  شرح_كد دوره توقف (واقعي ) 2 شرح_محل استقرار  \n",
       "0                      نامشخص     930BM1.xxxx  \n",
       "1                      نامشخص     610PE1.XXXX  \n",
       "2                      نامشخص          610BW8  \n",
       "3                      نامشخص     930BM1.xxxx  \n",
       "4                      نامشخص     710FN4.xxxx  "
      ]
     },
     "execution_count": 31,
     "metadata": {},
     "output_type": "execute_result"
    }
   ],
   "source": [
    "df.head()"
   ]
  },
  {
   "cell_type": "code",
   "execution_count": 88,
   "id": "87b952a3",
   "metadata": {},
   "outputs": [],
   "source": [
    "import arabic_reshaper\n",
    "from bidi.algorithm import get_display\n"
   ]
  },
  {
   "cell_type": "code",
   "execution_count": 33,
   "id": "574d774e",
   "metadata": {},
   "outputs": [],
   "source": [
    "x=[]\n",
    "for item in df['وضعیت'].values:\n",
    "    x.append(get_display(arabic_reshaper.reshape(item)))\n"
   ]
  },
  {
   "cell_type": "code",
   "execution_count": 34,
   "id": "05d7a45f",
   "metadata": {},
   "outputs": [
    {
     "name": "stdout",
     "output_type": "stream",
     "text": [
      "ﺩﺭﺣﺎﻝ ﺑﺮﺭﺳﻲ\n"
     ]
    },
    {
     "data": {
      "text/html": [
       "<div>\n",
       "<style scoped>\n",
       "    .dataframe tbody tr th:only-of-type {\n",
       "        vertical-align: middle;\n",
       "    }\n",
       "\n",
       "    .dataframe tbody tr th {\n",
       "        vertical-align: top;\n",
       "    }\n",
       "\n",
       "    .dataframe thead th {\n",
       "        text-align: right;\n",
       "    }\n",
       "</style>\n",
       "<table border=\"1\" class=\"dataframe\">\n",
       "  <thead>\n",
       "    <tr style=\"text-align: right;\">\n",
       "      <th></th>\n",
       "      <th>شماره درخواست</th>\n",
       "      <th>کد ماشین</th>\n",
       "      <th>تاریخ خرابی</th>\n",
       "      <th>وضعیت</th>\n",
       "      <th>نام ماشین</th>\n",
       "      <th>نوع درخواست</th>\n",
       "      <th>ق.ص. درخواست</th>\n",
       "      <th>علت خرابی</th>\n",
       "      <th>مدت انجام كار</th>\n",
       "      <th>شرح مشكل</th>\n",
       "      <th>تاريخ شروع</th>\n",
       "      <th>شرح_كد دوره توقف (واقعي ) 2</th>\n",
       "      <th>شرح_محل استقرار</th>\n",
       "      <th>vaziiat</th>\n",
       "    </tr>\n",
       "  </thead>\n",
       "  <tbody>\n",
       "    <tr>\n",
       "      <th>0</th>\n",
       "      <td>93078329</td>\n",
       "      <td></td>\n",
       "      <td>14000608</td>\n",
       "      <td>درحال بررسي</td>\n",
       "      <td>NaN</td>\n",
       "      <td>عادي</td>\n",
       "      <td>هيدروليك و روانكاري</td>\n",
       "      <td>NaN</td>\n",
       "      <td>0</td>\n",
       "      <td>سيستم گريس بالميل آلارم دارد و اسپري انجام نمي...</td>\n",
       "      <td>0</td>\n",
       "      <td>نامشخص</td>\n",
       "      <td>930BM1.xxxx</td>\n",
       "      <td>ﻲﺳﺭﺮﺑ ﻝﺎﺣﺭﺩ</td>\n",
       "    </tr>\n",
       "    <tr>\n",
       "      <th>1</th>\n",
       "      <td>93078330</td>\n",
       "      <td></td>\n",
       "      <td>14000608</td>\n",
       "      <td>درحال بررسي</td>\n",
       "      <td>NaN</td>\n",
       "      <td>عادي</td>\n",
       "      <td>هيدروليك و روانكاري</td>\n",
       "      <td>NaN</td>\n",
       "      <td>0</td>\n",
       "      <td>سيستم گريس ديسك يك آلارم دارد .</td>\n",
       "      <td>0</td>\n",
       "      <td>نامشخص</td>\n",
       "      <td>610PE1.XXXX</td>\n",
       "      <td>ﻲﺳﺭﺮﺑ ﻝﺎﺣﺭﺩ</td>\n",
       "    </tr>\n",
       "    <tr>\n",
       "      <th>2</th>\n",
       "      <td>93078331</td>\n",
       "      <td></td>\n",
       "      <td>14000608</td>\n",
       "      <td>درحال بررسي</td>\n",
       "      <td>NaN</td>\n",
       "      <td>عادي</td>\n",
       "      <td>هيدروليك و روانكاري</td>\n",
       "      <td>NaN</td>\n",
       "      <td>0</td>\n",
       "      <td>نشتي روغن  از پمپ مسير شماره يك هيدروليك 610wb</td>\n",
       "      <td>0</td>\n",
       "      <td>نامشخص</td>\n",
       "      <td>610BW8</td>\n",
       "      <td>ﻲﺳﺭﺮﺑ ﻝﺎﺣﺭﺩ</td>\n",
       "    </tr>\n",
       "    <tr>\n",
       "      <th>3</th>\n",
       "      <td>93078474</td>\n",
       "      <td></td>\n",
       "      <td>14000612</td>\n",
       "      <td>درحال بررسي</td>\n",
       "      <td>NaN</td>\n",
       "      <td>عادي</td>\n",
       "      <td>هيدروليك و روانكاري</td>\n",
       "      <td>NaN</td>\n",
       "      <td>0</td>\n",
       "      <td>سيستم گريسكاري بالميل آلارم دارد</td>\n",
       "      <td>0</td>\n",
       "      <td>نامشخص</td>\n",
       "      <td>930BM1.xxxx</td>\n",
       "      <td>ﻲﺳﺭﺮﺑ ﻝﺎﺣﺭﺩ</td>\n",
       "    </tr>\n",
       "    <tr>\n",
       "      <th>4</th>\n",
       "      <td>93078633</td>\n",
       "      <td></td>\n",
       "      <td>14000616</td>\n",
       "      <td>درحال بررسي</td>\n",
       "      <td>NaN</td>\n",
       "      <td>عادي</td>\n",
       "      <td>هيدروليك و روانكاري</td>\n",
       "      <td>NaN</td>\n",
       "      <td>0</td>\n",
       "      <td>دماي بيرينگ سمت موتور 710fn4 بالاست و سطح روغن...</td>\n",
       "      <td>0</td>\n",
       "      <td>نامشخص</td>\n",
       "      <td>710FN4.xxxx</td>\n",
       "      <td>ﻲﺳﺭﺮﺑ ﻝﺎﺣﺭﺩ</td>\n",
       "    </tr>\n",
       "    <tr>\n",
       "      <th>...</th>\n",
       "      <td>...</td>\n",
       "      <td>...</td>\n",
       "      <td>...</td>\n",
       "      <td>...</td>\n",
       "      <td>...</td>\n",
       "      <td>...</td>\n",
       "      <td>...</td>\n",
       "      <td>...</td>\n",
       "      <td>...</td>\n",
       "      <td>...</td>\n",
       "      <td>...</td>\n",
       "      <td>...</td>\n",
       "      <td>...</td>\n",
       "      <td>...</td>\n",
       "    </tr>\n",
       "    <tr>\n",
       "      <th>6145</th>\n",
       "      <td>93079110</td>\n",
       "      <td></td>\n",
       "      <td>14000630</td>\n",
       "      <td>درحال انجام</td>\n",
       "      <td>NaN</td>\n",
       "      <td>عادي</td>\n",
       "      <td>ابزاردقيق</td>\n",
       "      <td>NaN</td>\n",
       "      <td>120</td>\n",
       "      <td>سنسور نشان گر موقعيت WB بعضي مواقع گير ميكند و...</td>\n",
       "      <td>0</td>\n",
       "      <td>توقف گرم 110</td>\n",
       "      <td>610WB1.xxxx</td>\n",
       "      <td>ﻡﺎﺠﻧﺍ ﻝﺎﺣﺭﺩ</td>\n",
       "    </tr>\n",
       "    <tr>\n",
       "      <th>6146</th>\n",
       "      <td>93079611</td>\n",
       "      <td></td>\n",
       "      <td>14000715</td>\n",
       "      <td>پايان يافته</td>\n",
       "      <td>NaN</td>\n",
       "      <td>عادي</td>\n",
       "      <td>هيدروليك و روانكاري</td>\n",
       "      <td>NaN</td>\n",
       "      <td>60</td>\n",
       "      <td>لوله گريس پالت 15 از طوقه بيروني كنده شده است:</td>\n",
       "      <td>0</td>\n",
       "      <td>نامشخص</td>\n",
       "      <td>730AN1.XXXX</td>\n",
       "      <td>ﻪﺘﻓﺎﻳ ﻥﺎﻳﺎﭘ</td>\n",
       "    </tr>\n",
       "    <tr>\n",
       "      <th>6147</th>\n",
       "      <td>93078715</td>\n",
       "      <td></td>\n",
       "      <td>14000618</td>\n",
       "      <td>پايان يافته</td>\n",
       "      <td>NaN</td>\n",
       "      <td>عادي</td>\n",
       "      <td>هيدروليك و روانكاري</td>\n",
       "      <td>NaN</td>\n",
       "      <td>60</td>\n",
       "      <td>سيستم گريس چندين مرتبه تريپ خورد.</td>\n",
       "      <td>0</td>\n",
       "      <td>نامشخص</td>\n",
       "      <td>930BM1.xxxx</td>\n",
       "      <td>ﻪﺘﻓﺎﻳ ﻥﺎﻳﺎﭘ</td>\n",
       "    </tr>\n",
       "    <tr>\n",
       "      <th>6148</th>\n",
       "      <td>93081354</td>\n",
       "      <td></td>\n",
       "      <td>14000908</td>\n",
       "      <td>پايان يافته</td>\n",
       "      <td>NaN</td>\n",
       "      <td>عادي</td>\n",
       "      <td>هيدروليك و روانكاري</td>\n",
       "      <td>NaN</td>\n",
       "      <td>120</td>\n",
       "      <td>لوله گريس بيروني پالت 26 شكسته است</td>\n",
       "      <td>0</td>\n",
       "      <td>نامشخص</td>\n",
       "      <td>730AN1.XXXX</td>\n",
       "      <td>ﻪﺘﻓﺎﻳ ﻥﺎﻳﺎﭘ</td>\n",
       "    </tr>\n",
       "    <tr>\n",
       "      <th>6149</th>\n",
       "      <td>93082290</td>\n",
       "      <td></td>\n",
       "      <td>14001008</td>\n",
       "      <td>پايان يافته</td>\n",
       "      <td>NaN</td>\n",
       "      <td>عادي</td>\n",
       "      <td>هيدروليك و روانكاري</td>\n",
       "      <td>NaN</td>\n",
       "      <td>60</td>\n",
       "      <td>گريس دستي ديسك 4 جام ميباشد.</td>\n",
       "      <td>0</td>\n",
       "      <td>نامشخص</td>\n",
       "      <td>610PE4.XXXX</td>\n",
       "      <td>ﻪﺘﻓﺎﻳ ﻥﺎﻳﺎﭘ</td>\n",
       "    </tr>\n",
       "  </tbody>\n",
       "</table>\n",
       "<p>6150 rows × 14 columns</p>\n",
       "</div>"
      ],
      "text/plain": [
       "     شماره درخواست              کد ماشین تاریخ خرابی        وضعیت نام ماشین  \\\n",
       "0         93078329                          14000608  درحال بررسي       NaN   \n",
       "1         93078330                          14000608  درحال بررسي       NaN   \n",
       "2         93078331                          14000608  درحال بررسي       NaN   \n",
       "3         93078474                          14000612  درحال بررسي       NaN   \n",
       "4         93078633                          14000616  درحال بررسي       NaN   \n",
       "...            ...                   ...         ...          ...       ...   \n",
       "6145      93079110                          14000630  درحال انجام       NaN   \n",
       "6146      93079611                          14000715  پايان يافته       NaN   \n",
       "6147      93078715                          14000618  پايان يافته       NaN   \n",
       "6148      93081354                          14000908  پايان يافته       NaN   \n",
       "6149      93082290                          14001008  پايان يافته       NaN   \n",
       "\n",
       "     نوع درخواست         ق.ص. درخواست علت خرابی مدت انجام كار  \\\n",
       "0           عادي  هيدروليك و روانكاري       NaN             0   \n",
       "1           عادي  هيدروليك و روانكاري       NaN             0   \n",
       "2           عادي  هيدروليك و روانكاري       NaN             0   \n",
       "3           عادي  هيدروليك و روانكاري       NaN             0   \n",
       "4           عادي  هيدروليك و روانكاري       NaN             0   \n",
       "...          ...                  ...       ...           ...   \n",
       "6145        عادي            ابزاردقيق       NaN           120   \n",
       "6146        عادي  هيدروليك و روانكاري       NaN            60   \n",
       "6147        عادي  هيدروليك و روانكاري       NaN            60   \n",
       "6148        عادي  هيدروليك و روانكاري       NaN           120   \n",
       "6149        عادي  هيدروليك و روانكاري       NaN            60   \n",
       "\n",
       "                                               شرح مشكل تاريخ شروع  \\\n",
       "0     سيستم گريس بالميل آلارم دارد و اسپري انجام نمي...          0   \n",
       "1                       سيستم گريس ديسك يك آلارم دارد .          0   \n",
       "2        نشتي روغن  از پمپ مسير شماره يك هيدروليك 610wb          0   \n",
       "3                      سيستم گريسكاري بالميل آلارم دارد          0   \n",
       "4     دماي بيرينگ سمت موتور 710fn4 بالاست و سطح روغن...          0   \n",
       "...                                                 ...        ...   \n",
       "6145  سنسور نشان گر موقعيت WB بعضي مواقع گير ميكند و...          0   \n",
       "6146     لوله گريس پالت 15 از طوقه بيروني كنده شده است:          0   \n",
       "6147                  سيستم گريس چندين مرتبه تريپ خورد.          0   \n",
       "6148                 لوله گريس بيروني پالت 26 شكسته است          0   \n",
       "6149                       گريس دستي ديسك 4 جام ميباشد.          0   \n",
       "\n",
       "     شرح_كد دوره توقف (واقعي ) 2 شرح_محل استقرار      vaziiat  \n",
       "0                         نامشخص     930BM1.xxxx  ﻲﺳﺭﺮﺑ ﻝﺎﺣﺭﺩ  \n",
       "1                         نامشخص     610PE1.XXXX  ﻲﺳﺭﺮﺑ ﻝﺎﺣﺭﺩ  \n",
       "2                         نامشخص          610BW8  ﻲﺳﺭﺮﺑ ﻝﺎﺣﺭﺩ  \n",
       "3                         نامشخص     930BM1.xxxx  ﻲﺳﺭﺮﺑ ﻝﺎﺣﺭﺩ  \n",
       "4                         نامشخص     710FN4.xxxx  ﻲﺳﺭﺮﺑ ﻝﺎﺣﺭﺩ  \n",
       "...                          ...             ...          ...  \n",
       "6145                توقف گرم 110     610WB1.xxxx  ﻡﺎﺠﻧﺍ ﻝﺎﺣﺭﺩ  \n",
       "6146                      نامشخص     730AN1.XXXX  ﻪﺘﻓﺎﻳ ﻥﺎﻳﺎﭘ  \n",
       "6147                      نامشخص     930BM1.xxxx  ﻪﺘﻓﺎﻳ ﻥﺎﻳﺎﭘ  \n",
       "6148                      نامشخص     730AN1.XXXX  ﻪﺘﻓﺎﻳ ﻥﺎﻳﺎﭘ  \n",
       "6149                      نامشخص     610PE4.XXXX  ﻪﺘﻓﺎﻳ ﻥﺎﻳﺎﭘ  \n",
       "\n",
       "[6150 rows x 14 columns]"
      ]
     },
     "execution_count": 34,
     "metadata": {},
     "output_type": "execute_result"
    }
   ],
   "source": [
    "print(x[0][::-1])\n",
    "df['vaziiat']=x\n",
    "df"
   ]
  },
  {
   "cell_type": "code",
   "execution_count": 35,
   "id": "06ec4e79",
   "metadata": {},
   "outputs": [
    {
     "data": {
      "image/png": "[encoded data removed]",
      "text/plain": [
       "<Figure size 432x288 with 1 Axes>"
      ]
     },
     "metadata": {},
     "output_type": "display_data"
    }
   ],
   "source": [
    "df['vaziiat'].value_counts().plot(kind='pie')\n",
    "plt.tight_layout()\n",
    "plt.show()"
   ]
  },
  {
   "cell_type": "code",
   "execution_count": 36,
   "id": "c8e5c334",
   "metadata": {},
   "outputs": [
    {
     "ename": "NameError",
     "evalue": "name 'sample_persian' is not defined",
     "output_type": "error",
     "traceback": [
      "\u001b[1;31m---------------------------------------------------------------------------\u001b[0m",
      "\u001b[1;31mNameError\u001b[0m                                 Traceback (most recent call last)",
      "\u001b[1;32mC:\\Users\\H03C7~1.ALA\\AppData\\Local\\Temp/ipykernel_9492/3570640637.py\u001b[0m in \u001b[0;36m<module>\u001b[1;34m\u001b[0m\n\u001b[0;32m      1\u001b[0m \u001b[1;32mimport\u001b[0m \u001b[0mre\u001b[0m\u001b[1;33m\u001b[0m\u001b[1;33m\u001b[0m\u001b[0m\n\u001b[0;32m      2\u001b[0m \u001b[1;31m#cleaning text\u001b[0m\u001b[1;33m\u001b[0m\u001b[1;33m\u001b[0m\u001b[0m\n\u001b[1;32m----> 3\u001b[1;33m \u001b[0msentences\u001b[0m \u001b[1;33m=\u001b[0m \u001b[0msample_persian\u001b[0m\u001b[1;33m\u001b[0m\u001b[1;33m\u001b[0m\u001b[0m\n\u001b[0m\u001b[0;32m      4\u001b[0m \u001b[0mcorpus\u001b[0m \u001b[1;33m=\u001b[0m \u001b[1;33m[\u001b[0m\u001b[1;33m]\u001b[0m\u001b[1;33m\u001b[0m\u001b[1;33m\u001b[0m\u001b[0m\n\u001b[0;32m      5\u001b[0m \u001b[1;33m\u001b[0m\u001b[0m\n",
      "\u001b[1;31mNameError\u001b[0m: name 'sample_persian' is not defined"
     ]
    }
   ],
   "source": [
    "import re\n",
    "#cleaning text\n",
    "sentences = sample_persian\n",
    "corpus = []\n",
    "\n",
    "for sent in sentences:\n",
    "    review = re.sub(\"[^a-zA-Z]\", \" \", sent)\n",
    "    review = re.sub(\"\\b[a-zA-Z]\\b\", \" \", review)\n",
    "    review = review.lower()\n",
    "    review = review.split()\n",
    "    review = \" \".join(review)\n",
    "    corpus.append(review)"
   ]
  },
  {
   "cell_type": "code",
   "execution_count": null,
   "id": "2709f1ae",
   "metadata": {},
   "outputs": [],
   "source": [
    "corpus"
   ]
  },
  {
   "cell_type": "code",
   "execution_count": null,
   "id": "c2aba46c",
   "metadata": {},
   "outputs": [],
   "source": [
    "import re\n",
    "#cleaning text\n",
    "sentences = sample_persian\n",
    "corpus = []\n",
    "\n",
    "for sent in sentences:\n",
    "    if re.search('[\\u0600-\\u06FF]',sent):\n",
    "        corpus.append(sent)"
   ]
  },
  {
   "cell_type": "code",
   "execution_count": null,
   "id": "076f1ad4",
   "metadata": {},
   "outputs": [],
   "source": [
    "corpus"
   ]
  },
  {
   "cell_type": "code",
   "execution_count": null,
   "id": "97c1a726",
   "metadata": {},
   "outputs": [],
   "source": []
  },
  {
   "cell_type": "code",
   "execution_count": null,
   "id": "1858b651",
   "metadata": {},
   "outputs": [],
   "source": [
    "words =word_tokenize(sample_persian)"
   ]
  },
  {
   "cell_type": "code",
   "execution_count": null,
   "id": "63f403db",
   "metadata": {},
   "outputs": [],
   "source": [
    "type(words)"
   ]
  },
  {
   "cell_type": "code",
   "execution_count": null,
   "id": "e63e0b8e",
   "metadata": {},
   "outputs": [],
   "source": [
    "words"
   ]
  },
  {
   "cell_type": "code",
   "execution_count": null,
   "id": "0d5deee1",
   "metadata": {},
   "outputs": [],
   "source": [
    "import re\n",
    "#cleaning text\n",
    "normalizer = Normalizer()\n",
    "corpus = []\n",
    "\n",
    "for word in words:\n",
    "    if re.search('[\\u0600-\\u06FF]',word):\n",
    "        corpus.append(normalizer.normalize(word))"
   ]
  },
  {
   "cell_type": "code",
   "execution_count": null,
   "id": "751b1e5a",
   "metadata": {},
   "outputs": [],
   "source": [
    "corpus"
   ]
  },
  {
   "cell_type": "code",
   "execution_count": null,
   "id": "bb5c3e67",
   "metadata": {},
   "outputs": [],
   "source": []
  },
  {
   "cell_type": "code",
   "execution_count": null,
   "id": "950a87e5",
   "metadata": {},
   "outputs": [],
   "source": [
    "from nltk.corpus import stopwords\n",
    "from nltk.tokenize import wordpunct_tokenize\n",
    "\n",
    "stop_words = set(stopwords.words('arabic'))"
   ]
  },
  {
   "cell_type": "code",
   "execution_count": null,
   "id": "3e5562b2",
   "metadata": {},
   "outputs": [],
   "source": [
    "#url='https://raw.githubusercontent.com/sobhe/hazm/master/hazm/data/stopwords.dat'"
   ]
  },
  {
   "cell_type": "code",
   "execution_count": null,
   "id": "519dad5d",
   "metadata": {},
   "outputs": [],
   "source": [
    "df=pd.read_csv('stopwords.dat',header=None, encoding='utf-8',)"
   ]
  },
  {
   "cell_type": "code",
   "execution_count": null,
   "id": "eeb4f861",
   "metadata": {},
   "outputs": [],
   "source": [
    "df"
   ]
  },
  {
   "cell_type": "code",
   "execution_count": null,
   "id": "85e925d8",
   "metadata": {},
   "outputs": [],
   "source": [
    "st_word=df.iloc[:,0].tolist()"
   ]
  },
  {
   "cell_type": "code",
   "execution_count": null,
   "id": "da5a640a",
   "metadata": {},
   "outputs": [],
   "source": [
    "st_word"
   ]
  },
  {
   "cell_type": "code",
   "execution_count": null,
   "id": "94fa3caf",
   "metadata": {},
   "outputs": [],
   "source": [
    "stop_words.update(st_word)"
   ]
  },
  {
   "cell_type": "code",
   "execution_count": null,
   "id": "435e5efe",
   "metadata": {},
   "outputs": [],
   "source": [
    "stop_words"
   ]
  },
  {
   "cell_type": "code",
   "execution_count": null,
   "id": "6bd93283",
   "metadata": {},
   "outputs": [],
   "source": [
    "filtered_words=[]\n",
    "for word in corpus:\n",
    "    if word not in stop_words:\n",
    "        filtered_words.append(word)"
   ]
  },
  {
   "cell_type": "code",
   "execution_count": null,
   "id": "b88659b2",
   "metadata": {},
   "outputs": [],
   "source": [
    "filtered_words"
   ]
  },
  {
   "cell_type": "code",
   "execution_count": null,
   "id": "6f40ff04",
   "metadata": {},
   "outputs": [],
   "source": [
    "stemmer = Stemmer()\n",
    "lemmatizer = Lemmatizer()\n",
    "normalizer = Normalizer()"
   ]
  },
  {
   "cell_type": "code",
   "execution_count": null,
   "id": "d93a4158",
   "metadata": {},
   "outputs": [],
   "source": [
    "for token in words:\n",
    "    token = normalizer.normalize(token)\n",
    "    print(\"stem\" + \"-> \"+ stemmer.stem(token))\n",
    "    print(\"lemma\" + \"-> \"+lemmatizer.lemmatize(token))\n",
    "    print(\"\\n\")"
   ]
  },
  {
   "cell_type": "code",
   "execution_count": null,
   "id": "ea608ca4",
   "metadata": {},
   "outputs": [],
   "source": [
    "import nltk\n",
    "from nltk.corpus import stopwords"
   ]
  },
  {
   "cell_type": "code",
   "execution_count": null,
   "id": "96994a1c",
   "metadata": {},
   "outputs": [],
   "source": [
    "print(stopwords.fileids())"
   ]
  },
  {
   "cell_type": "code",
   "execution_count": null,
   "id": "61705664",
   "metadata": {},
   "outputs": [],
   "source": [
    "corpus = []\n",
    "for c in sample_persian:\n",
    "    if (ord(c) >600) or (ord(c) == 32)  :\n",
    "        corpus.append(c)\n",
    "    "
   ]
  },
  {
   "cell_type": "code",
   "execution_count": null,
   "id": "3bbb715d",
   "metadata": {},
   "outputs": [],
   "source": [
    "sample_persian"
   ]
  },
  {
   "cell_type": "code",
   "execution_count": null,
   "id": "4cf1095d",
   "metadata": {},
   "outputs": [],
   "source": [
    "corpus"
   ]
  },
  {
   "cell_type": "code",
   "execution_count": 37,
   "id": "0f4ab76b",
   "metadata": {},
   "outputs": [
    {
     "name": "stdout",
     "output_type": "stream",
     "text": [
      "♥ÄÆ\n"
     ]
    }
   ],
   "source": []
  },
  {
   "cell_type": "code",
   "execution_count": 94,
   "id": "64afcd0b",
   "metadata": {},
   "outputs": [
    {
     "name": "stdout",
     "output_type": "stream",
     "text": [
      "b'\\xef\\xba\\x8f \\xef\\xba\\x91\\xef\\xbb\\xaa \\xef\\xba\\x91\\xef\\xba\\x8e \\xef\\xba\\x91\\xef\\xba\\x8e\\xef\\xba\\x8f'\n"
     ]
    },
    {
     "data": {
      "image/png": "[encoded data removed]",
      "text/plain": [
       "<Figure size 432x288 with 1 Axes>"
      ]
     },
     "metadata": {
      "needs_background": "light"
     },
     "output_type": "display_data"
    }
   ],
   "source": [
    "# -*- coding: utf-8 -*-\n",
    "a='ب به با باب'\n",
    "b= arabic_reshaper.reshape(a)\n",
    "print(b.encode())\n",
    "\n",
    "\n",
    "#print(unicode_string)\n",
    "fig,ax = plt.subplots()\n",
    "ax.set_title(b[::-1],fontsize=25)\n",
    "plt.show()"
   ]
  },
  {
   "cell_type": "code",
   "execution_count": null,
   "id": "4916b1ab",
   "metadata": {},
   "outputs": [],
   "source": []
  }
 ],
 "metadata": {
  "kernelspec": {
   "display_name": "Python 3 (ipykernel)",
   "language": "python",
   "name": "python3"
  },
  "language_info": {
   "codemirror_mode": {
    "name": "ipython",
    "version": 3
   },
   "file_extension": ".py",
   "mimetype": "text/x-python",
   "name": "python",
   "nbconvert_exporter": "python",
   "pygments_lexer": "ipython3",
   "version": "3.9.7"
  }
 },
 "nbformat": 4,
 "nbformat_minor": 5
}
